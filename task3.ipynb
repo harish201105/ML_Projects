{
 "cells": [
  {
   "cell_type": "code",
   "execution_count": 2,
   "metadata": {},
   "outputs": [
    {
     "name": "stderr",
     "output_type": "stream",
     "text": [
      "/var/folders/q5/3gdpzhz56vdb5ymrs8jgrsdc0000gn/T/ipykernel_89273/682527940.py:13: FutureWarning: A value is trying to be set on a copy of a DataFrame or Series through chained assignment using an inplace method.\n",
      "The behavior will change in pandas 3.0. This inplace method will never work because the intermediate object on which we are setting values always behaves as a copy.\n",
      "\n",
      "For example, when doing 'df[col].method(value, inplace=True)', try using 'df.method({col: value}, inplace=True)' or df[col] = df[col].method(value) instead, to perform the operation inplace on the original object.\n",
      "\n",
      "\n",
      "  data['Cuisines'].fillna('Various', inplace=True)\n"
     ]
    },
    {
     "name": "stdout",
     "output_type": "stream",
     "text": [
      "Logistic Regression Metrics:\n",
      "Accuracy: 0.12244897959183673, Precision: 0.0011384227061958171, Recall: 0.0036707855034735642, F1 Score: 0.0017013540687987438\n",
      "Random Forest Metrics:\n",
      "Accuracy: 0.11564625850340136, Precision: 0.0038132726640384036, Recall: 0.005063026305360399, F1 Score: 0.0037928707891029907\n"
     ]
    },
    {
     "name": "stderr",
     "output_type": "stream",
     "text": [
      "/Library/Frameworks/Python.framework/Versions/3.11/lib/python3.11/site-packages/sklearn/metrics/_classification.py:1531: UndefinedMetricWarning: Precision is ill-defined and being set to 0.0 in labels with no predicted samples. Use `zero_division` parameter to control this behavior.\n",
      "  _warn_prf(average, modifier, f\"{metric.capitalize()} is\", len(result))\n",
      "/Library/Frameworks/Python.framework/Versions/3.11/lib/python3.11/site-packages/sklearn/metrics/_classification.py:1531: UndefinedMetricWarning: Recall is ill-defined and being set to 0.0 in labels with no true samples. Use `zero_division` parameter to control this behavior.\n",
      "  _warn_prf(average, modifier, f\"{metric.capitalize()} is\", len(result))\n",
      "/Library/Frameworks/Python.framework/Versions/3.11/lib/python3.11/site-packages/sklearn/metrics/_classification.py:1531: UndefinedMetricWarning: Precision is ill-defined and being set to 0.0 in labels with no predicted samples. Use `zero_division` parameter to control this behavior.\n",
      "  _warn_prf(average, modifier, f\"{metric.capitalize()} is\", len(result))\n",
      "/Library/Frameworks/Python.framework/Versions/3.11/lib/python3.11/site-packages/sklearn/metrics/_classification.py:1531: UndefinedMetricWarning: Recall is ill-defined and being set to 0.0 in labels with no true samples. Use `zero_division` parameter to control this behavior.\n",
      "  _warn_prf(average, modifier, f\"{metric.capitalize()} is\", len(result))\n"
     ]
    }
   ],
   "source": [
    "import pandas as pd\n",
    "from sklearn.model_selection import train_test_split\n",
    "from sklearn.preprocessing import LabelEncoder\n",
    "from sklearn.linear_model import LogisticRegression\n",
    "from sklearn.ensemble import RandomForestClassifier\n",
    "from sklearn.metrics import accuracy_score, precision_score, recall_score, f1_score\n",
    "\n",
    "# Load the dataset\n",
    "file_path = 'Dataset.csv'  # Adjust this path to where your dataset is stored\n",
    "data = pd.read_csv(file_path)\n",
    "\n",
    "# Handling missing values for 'Cuisines', crucial for cuisine classification\n",
    "data['Cuisines'].fillna('Various', inplace=True)\n",
    "\n",
    "# Encode categorical variables\n",
    "label_encoder = LabelEncoder()\n",
    "data['Cuisines'] = label_encoder.fit_transform(data['Cuisines'])\n",
    "\n",
    "# Preparing features and target variable\n",
    "X = data[['City', 'Rating text', 'Price range']]  # Consider adding or removing features as necessary\n",
    "y = data['Cuisines']  # Target variable\n",
    "\n",
    "# Encoding other categorical features\n",
    "X = pd.get_dummies(X, columns=['City', 'Rating text'])\n",
    "\n",
    "# Splitting the dataset\n",
    "X_train, X_test, y_train, y_test = train_test_split(X, y, test_size=0.2, random_state=42)\n",
    "\n",
    "# Model training\n",
    "logistic_model = LogisticRegression(max_iter=500)\n",
    "random_forest_model = RandomForestClassifier(n_estimators=100, random_state=42)\n",
    "\n",
    "logistic_model.fit(X_train, y_train)\n",
    "random_forest_model.fit(X_train, y_train)\n",
    "\n",
    "# Predictions\n",
    "y_pred_logistic = logistic_model.predict(X_test)\n",
    "y_pred_forest = random_forest_model.predict(X_test)\n",
    "\n",
    "# Model evaluation\n",
    "accuracy_log = accuracy_score(y_test, y_pred_logistic)\n",
    "precision_log = precision_score(y_test, y_pred_logistic, average='macro')\n",
    "recall_log = recall_score(y_test, y_pred_logistic, average='macro')\n",
    "f1_log = f1_score(y_test, y_pred_logistic, average='macro')\n",
    "\n",
    "accuracy_forest = accuracy_score(y_test, y_pred_forest)\n",
    "precision_forest = precision_score(y_test, y_pred_forest, average='macro')\n",
    "recall_forest = recall_score(y_test, y_pred_forest, average='macro')\n",
    "f1_forest = f1_score(y_test, y_pred_forest, average='macro')\n",
    "\n",
    "print(\"Logistic Regression Metrics:\")\n",
    "print(f\"Accuracy: {accuracy_log}, Precision: {precision_log}, Recall: {recall_log}, F1 Score: {f1_log}\")\n",
    "\n",
    "print(\"Random Forest Metrics:\")\n",
    "print(f\"Accuracy: {accuracy_forest}, Precision: {precision_forest}, Recall: {recall_forest}, F1 Score: {f1_forest}\")\n"
   ]
  }
 ],
 "metadata": {
  "kernelspec": {
   "display_name": "Python 3",
   "language": "python",
   "name": "python3"
  },
  "language_info": {
   "codemirror_mode": {
    "name": "ipython",
    "version": 3
   },
   "file_extension": ".py",
   "mimetype": "text/x-python",
   "name": "python",
   "nbconvert_exporter": "python",
   "pygments_lexer": "ipython3",
   "version": "3.11.0"
  }
 },
 "nbformat": 4,
 "nbformat_minor": 2
}
