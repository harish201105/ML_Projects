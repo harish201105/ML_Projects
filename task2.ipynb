{
 "cells": [
  {
   "cell_type": "code",
   "execution_count": 4,
   "metadata": {},
   "outputs": [
    {
     "name": "stderr",
     "output_type": "stream",
     "text": [
      "/var/folders/q5/3gdpzhz56vdb5ymrs8jgrsdc0000gn/T/ipykernel_88530/4036880774.py:10: FutureWarning: A value is trying to be set on a copy of a DataFrame or Series through chained assignment using an inplace method.\n",
      "The behavior will change in pandas 3.0. This inplace method will never work because the intermediate object on which we are setting values always behaves as a copy.\n",
      "\n",
      "For example, when doing 'df[col].method(value, inplace=True)', try using 'df.method({col: value}, inplace=True)' or df[col] = df[col].method(value) instead, to perform the operation inplace on the original object.\n",
      "\n",
      "\n",
      "  data['Cuisines'].fillna('Various', inplace=True)\n"
     ]
    },
    {
     "name": "stdout",
     "output_type": "stream",
     "text": [
      "137                           The Taj of India\n",
      "130                         Frog Hollow Tavern\n",
      "133                       Nacho Mamas Burritos\n",
      "142               El Kiosco Mexican Restaurant\n",
      "136                             The Chop House\n",
      "127                            Farmhaus Burger\n",
      "131    Giuseppe's Pizza & Italian Specialities\n",
      "129                         Sconyers Bar B Que\n",
      "140                     Rhinehart's Oyster Bar\n",
      "139                                    Pho Bac\n",
      "Name: Restaurant Name, dtype: object\n"
     ]
    }
   ],
   "source": [
    "import pandas as pd\n",
    "from sklearn.feature_extraction.text import TfidfVectorizer\n",
    "from sklearn.metrics.pairwise import cosine_similarity\n",
    "\n",
    "# Load the dataset\n",
    "file_path = 'Dataset.csv'  # Adjust this path to where your dataset is stored\n",
    "data = pd.read_csv(file_path)\n",
    "\n",
    "# Handling missing values for 'Cuisines', as it is crucial for recommendations\n",
    "data['Cuisines'].fillna('Various', inplace=True)\n",
    "\n",
    "# Combining relevant features into a single string (feature aggregation)\n",
    "data['combined_features'] = data.apply(lambda row: f\"{row['City']} {row['Cuisines']} {row['Price range']} {row['Rating text']}\", axis=1)\n",
    "\n",
    "# Using TF-IDF Vectorizer to convert text data into a matrix of TF-IDF features\n",
    "tfidf = TfidfVectorizer(stop_words='english')\n",
    "tfidf_matrix = tfidf.fit_transform(data['combined_features'])\n",
    "\n",
    "# Calculating cosine similarity matrix\n",
    "cosine_sim = cosine_similarity(tfidf_matrix, tfidf_matrix)\n",
    "\n",
    "# Function to get recommendations based on the cosine similarity score\n",
    "def get_recommendations(rest_name, cosine_sim=cosine_sim):\n",
    "    # Get the index of the restaurant that matches the name\n",
    "    matching_indices = data[data['Restaurant Name'].str.contains(rest_name, case=False, na=False)].index\n",
    "    if not matching_indices.empty:\n",
    "        idx = matching_indices[0]\n",
    "        \n",
    "        # Get the pairwise similarity scores of all restaurants with that restaurant\n",
    "        sim_scores = list(enumerate(cosine_sim[idx]))\n",
    "        \n",
    "        # Sort the restaurants based on the similarity scores\n",
    "        sim_scores = sorted(sim_scores, key=lambda x: x[1], reverse=True)\n",
    "        \n",
    "        # Get the scores of the 10 most similar restaurants\n",
    "        sim_scores = sim_scores[1:11]\n",
    "        \n",
    "        # Get the restaurant indices\n",
    "        restaurant_indices = [i[0] for i in sim_scores]\n",
    "        \n",
    "        # Return the top 10 most similar restaurants\n",
    "        return data['Restaurant Name'].iloc[restaurant_indices]\n",
    "    else:\n",
    "        return \"No matching restaurants found. Please check the name and try again.\"\n",
    "\n",
    "# Example usage\n",
    "recommendations = get_recommendations('Thai Kitchen')  # Replace 'Some Restaurant Name' with a valid name from your dataset\n",
    "print(recommendations)\n"
   ]
  }
 ],
 "metadata": {
  "kernelspec": {
   "display_name": "Python 3",
   "language": "python",
   "name": "python3"
  },
  "language_info": {
   "codemirror_mode": {
    "name": "ipython",
    "version": 3
   },
   "file_extension": ".py",
   "mimetype": "text/x-python",
   "name": "python",
   "nbconvert_exporter": "python",
   "pygments_lexer": "ipython3",
   "version": "3.11.0"
  }
 },
 "nbformat": 4,
 "nbformat_minor": 2
}
